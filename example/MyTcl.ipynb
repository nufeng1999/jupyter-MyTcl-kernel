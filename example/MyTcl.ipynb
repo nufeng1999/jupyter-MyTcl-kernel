{
 "cells": [
  {
   "cell_type": "code",
   "execution_count": 3,
   "metadata": {},
   "outputs": [
    {
     "name": "stdout",
     "output_type": "stream",
     "text": [
      "[MyTcl Kernel] Info:file h:\\Jupyter\\ipynb\\MyTcl\\src/test.tcl created successfully\n",
      "[MyTcl Kernel] Info:The process :h:\\Jupyter\\ipynb\\MyTcl\\src/test.tcl\n",
      "[MyTcl Kernel] Info:h:\\Jupyter\\ipynb\\MyTcl\\tmpo_9c3r5h.bat\n",
      "[MyTcl Kernel] Info:c:\\Windows\\System32\\cmd.exe /c start h:\\Jupyter\\ipynb\\MyTcl\\tmpo_9c3r5h.bat \n",
      "[MyTcl Kernel] Info:The process end:6752\n"
     ]
    }
   ],
   "source": [
    "## ---------------------------\n",
    "##%runinterm\n",
    "##%term:c:\\Windows\\System32\\cmd.exe /c start \n",
    "## %cflags: -o src/test.exe\n",
    "## %ldflags:\n",
    "## ----------------------------------\n",
    "##%overwritefile\n",
    "##%file:src/test.tcl\n",
    "## %noruncode\n",
    "##%log:1\n",
    "## ----------------------------------\n",
    "\n",
    "#!/usr/bin/tclsh\n",
    "puts \"hello world\""
   ]
  },
  {
   "cell_type": "code",
   "execution_count": 5,
   "metadata": {},
   "outputs": [
    {
     "data": {
      "text/plain": [
       "5\r\n",
       "f\r\n"
      ]
     },
     "metadata": {
      "text/plain": {}
     },
     "output_type": "display_data"
    }
   ],
   "source": [
    "##\n",
    "\n",
    "##%log:0\n",
    "#!/usr/bin/tclsh\n",
    "\n",
    "puts [expr 3 + 2] ;# print sum of the 3 and 2//原文出自【易百教程】，商业转载请联系作者获得授权，非商业请保留原文链接：https://www.yiibai.com/tcl/tcl_basic_syntax.html\n",
    "set qian(123) f;\n",
    "puts $qian(123); \n"
   ]
  }
 ],
 "metadata": {
  "kernelspec": {
   "display_name": "MyTcl",
   "language": "tcl",
   "name": "mytcl"
  },
  "language_info": {
   "name": "tcl"
  },
  "orig_nbformat": 4
 },
 "nbformat": 4,
 "nbformat_minor": 2
}
