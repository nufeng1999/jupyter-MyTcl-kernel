{
 "cells": [
  {
   "cell_type": "code",
   "execution_count": 3,
   "metadata": {},
   "outputs": [
    {
     "name": "stdout",
     "output_type": "stream",
     "text": [
      "[MyTcl Kernel] Info:file h:\\Jupyter\\ipynb\\MyTcl\\src/test.tcl created successfully\n",
      "[MyTcl Kernel] Info:The process :h:\\Jupyter\\ipynb\\MyTcl\\src/test.tcl\n",
      "[MyTcl Kernel] Info:h:\\Jupyter\\ipynb\\MyTcl\\tmpo_9c3r5h.bat\n",
      "[MyTcl Kernel] Info:c:\\Windows\\System32\\cmd.exe /c start h:\\Jupyter\\ipynb\\MyTcl\\tmpo_9c3r5h.bat \n",
      "[MyTcl Kernel] Info:The process end:6752\n"
     ]
    }
   ],
   "source": [
    "## ---------------------------\n",
    "##%runinterm\n",
    "##%term:c:\\Windows\\System32\\cmd.exe /c start \n",
    "## %cflags: -o src/test.exe\n",
    "## %ldflags:\n",
    "## ----------------------------------\n",
    "##%overwritefile\n",
    "##%file:src/test.tcl\n",
    "## %noruncode\n",
    "##%log:1\n",
    "## ----------------------------------\n",
    "\n",
    "#!/usr/bin/tclsh\n",
    "puts \"hello world\""
   ]
  },
  {
   "cell_type": "code",
   "execution_count": null,
   "metadata": {},
   "outputs": [],
   "source": []
  }
 ],
 "metadata": {
  "kernelspec": {
   "display_name": "MyTcl",
   "language": "tcl",
   "name": "mytcl"
  },
  "language_info": {
   "name": "tcl"
  },
  "orig_nbformat": 4
 },
 "nbformat": 4,
 "nbformat_minor": 2
}
